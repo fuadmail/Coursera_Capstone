{
    "nbformat_minor": 1, 
    "cells": [
        {
            "source": "### Explore and cluster the neighborhoods in Toronto.", 
            "cell_type": "markdown", 
            "metadata": {}
        }, 
        {
            "execution_count": 20, 
            "cell_type": "code", 
            "metadata": {}, 
            "outputs": [
                {
                    "output_type": "stream", 
                    "name": "stdout", 
                    "text": "Solving environment: done\n\n## Package Plan ##\n\n  environment location: /opt/conda/envs/Python36\n\n  added / updated specs: \n    - folium=0.5.0\n\n\nThe following packages will be downloaded:\n\n    package                    |            build\n    ---------------------------|-----------------\n    altair-3.1.0               |           py36_0         724 KB  conda-forge\n    certifi-2019.6.16          |           py36_1         149 KB  conda-forge\n    branca-0.3.1               |             py_0          25 KB  conda-forge\n    ca-certificates-2019.6.16  |       hecc5488_0         145 KB  conda-forge\n    vincent-0.4.4              |             py_1          28 KB  conda-forge\n    openssl-1.1.1c             |       h516909a_0         2.1 MB  conda-forge\n    folium-0.5.0               |             py_0          45 KB  conda-forge\n    ------------------------------------------------------------\n                                           Total:         3.2 MB\n\nThe following NEW packages will be INSTALLED:\n\n    altair:          3.1.0-py36_0      conda-forge\n    branca:          0.3.1-py_0        conda-forge\n    folium:          0.5.0-py_0        conda-forge\n    vincent:         0.4.4-py_1        conda-forge\n\nThe following packages will be UPDATED:\n\n    ca-certificates: 2019.5.15-0                   --> 2019.6.16-hecc5488_0 conda-forge\n    certifi:         2019.6.16-py36_0              --> 2019.6.16-py36_1     conda-forge\n\nThe following packages will be DOWNGRADED:\n\n    openssl:         1.1.1c-h7b6447c_1             --> 1.1.1c-h516909a_0    conda-forge\n\n\nDownloading and Extracting Packages\naltair-3.1.0         | 724 KB    | ##################################### | 100% \ncertifi-2019.6.16    | 149 KB    | ##################################### | 100% \nbranca-0.3.1         | 25 KB     | ##################################### | 100% \nca-certificates-2019 | 145 KB    | ##################################### | 100% \nvincent-0.4.4        | 28 KB     | ##################################### | 100% \nopenssl-1.1.1c       | 2.1 MB    | ##################################### | 100% \nfolium-0.5.0         | 45 KB     | ##################################### | 100% \nPreparing transaction: done\nVerifying transaction: done\nExecuting transaction: done\nLibraries imported.\n"
                }
            ], 
            "source": "import numpy as np \nimport pandas as pd \nfrom pandas.io.json import json_normalize \nimport json \nimport requests # HTTP library\nfrom bs4 import BeautifulSoup # scraping library\n\nfrom sklearn.cluster import KMeans \n\npd.set_option('display.max_columns', None)\npd.set_option('display.max_rows', None)\n\n# Matplotlib and associated plotting modules\nimport matplotlib.cm as cm\nimport matplotlib.colors as colors\n\n!conda install -c conda-forge folium=0.5.0 --yes\nimport folium \n\nprint('Libraries imported.')"
        }, 
        {
            "source": "### Extract data of Toronto neighborhoods from Wikipedia\n", 
            "cell_type": "markdown", 
            "metadata": {}
        }, 
        {
            "execution_count": 21, 
            "cell_type": "code", 
            "metadata": {}, 
            "outputs": [
                {
                    "execution_count": 21, 
                    "metadata": {}, 
                    "data": {
                        "text/plain": "[['Postcode', 'Borough', 'Neighbourhood'],\n ['M1A', 'Not assigned', 'Not assigned'],\n ['M2A', 'Not assigned', 'Not assigned'],\n ['M3A', 'North York', 'Parkwoods'],\n ['M4A', 'North York', 'Victoria Village'],\n ['M5A', 'Downtown Toronto', 'Harbourfront'],\n ['M5A', 'Downtown Toronto', 'Regent Park'],\n ['M6A', 'North York', 'Lawrence Heights'],\n ['M6A', 'North York', 'Lawrence Manor'],\n ['M7A', \"Queen's Park\", 'Not assigned']]"
                    }, 
                    "output_type": "execute_result"
                }
            ], 
            "source": "url = \"https://en.wikipedia.org/wiki/List_of_postal_codes_of_Canada:_M\"\n\ntext_result = requests.get(url).text #get the entire html of the article as a str\nhtml_parsed_result = BeautifulSoup(text_result, 'html.parser') #transform the text to html\n\nneightborhood_info_table = html_parsed_result.find('table', class_ = 'wikitable')\nneightborhood_rows = neightborhood_info_table.find_all('tr')\n\n# extract the info ('Postcode', 'Borough', 'Neighbourhood') from the table\nneightborhood_info = []\nfor row in neightborhood_rows:\n    info = row.text.split('\\n')[1:-1] # remove empty str (first and last items)\n    neightborhood_info.append(info)\n    \nneightborhood_info[0:10]"
        }, 
        {
            "execution_count": 22, 
            "cell_type": "code", 
            "metadata": {}, 
            "outputs": [
                {
                    "execution_count": 22, 
                    "metadata": {}, 
                    "data": {
                        "text/html": "<div>\n<style scoped>\n    .dataframe tbody tr th:only-of-type {\n        vertical-align: middle;\n    }\n\n    .dataframe tbody tr th {\n        vertical-align: top;\n    }\n\n    .dataframe thead th {\n        text-align: right;\n    }\n</style>\n<table border=\"1\" class=\"dataframe\">\n  <thead>\n    <tr style=\"text-align: right;\">\n      <th></th>\n      <th>Postcode</th>\n      <th>Borough</th>\n      <th>Neighborhood</th>\n    </tr>\n  </thead>\n  <tbody>\n    <tr>\n      <th>0</th>\n      <td>M1A</td>\n      <td>Not assigned</td>\n      <td>Not assigned</td>\n    </tr>\n    <tr>\n      <th>1</th>\n      <td>M2A</td>\n      <td>Not assigned</td>\n      <td>Not assigned</td>\n    </tr>\n    <tr>\n      <th>2</th>\n      <td>M3A</td>\n      <td>North York</td>\n      <td>Parkwoods</td>\n    </tr>\n    <tr>\n      <th>3</th>\n      <td>M4A</td>\n      <td>North York</td>\n      <td>Victoria Village</td>\n    </tr>\n    <tr>\n      <th>4</th>\n      <td>M5A</td>\n      <td>Downtown Toronto</td>\n      <td>Harbourfront</td>\n    </tr>\n    <tr>\n      <th>5</th>\n      <td>M5A</td>\n      <td>Downtown Toronto</td>\n      <td>Regent Park</td>\n    </tr>\n    <tr>\n      <th>6</th>\n      <td>M6A</td>\n      <td>North York</td>\n      <td>Lawrence Heights</td>\n    </tr>\n    <tr>\n      <th>7</th>\n      <td>M6A</td>\n      <td>North York</td>\n      <td>Lawrence Manor</td>\n    </tr>\n    <tr>\n      <th>8</th>\n      <td>M7A</td>\n      <td>Queen's Park</td>\n      <td>Not assigned</td>\n    </tr>\n    <tr>\n      <th>9</th>\n      <td>M8A</td>\n      <td>Not assigned</td>\n      <td>Not assigned</td>\n    </tr>\n  </tbody>\n</table>\n</div>", 
                        "text/plain": "  Postcode           Borough      Neighborhood\n0      M1A      Not assigned      Not assigned\n1      M2A      Not assigned      Not assigned\n2      M3A        North York         Parkwoods\n3      M4A        North York  Victoria Village\n4      M5A  Downtown Toronto      Harbourfront\n5      M5A  Downtown Toronto       Regent Park\n6      M6A        North York  Lawrence Heights\n7      M6A        North York    Lawrence Manor\n8      M7A      Queen's Park      Not assigned\n9      M8A      Not assigned      Not assigned"
                    }, 
                    "output_type": "execute_result"
                }
            ], 
            "source": "# Neighborhoods dataframe\nneightborhood_info[0][-1] = 'Neighborhood' \nneighborhood_df = pd.DataFrame(neightborhood_info[1:], columns=neightborhood_info[0])\n\nneighborhood_df.head(10)"
        }, 
        {
            "source": "###  Clean neighborhoods dataset of \"not assigned\" boroughs", 
            "cell_type": "markdown", 
            "metadata": {}
        }, 
        {
            "execution_count": 23, 
            "cell_type": "code", 
            "metadata": {}, 
            "outputs": [
                {
                    "output_type": "stream", 
                    "name": "stdout", 
                    "text": "The DataFrame shape is (288, 3) \n\nThere are:\n  180 Postal codes\n  11 Boroughs\n  208 Neighborhoods\n  77 rows with Not assigned Borough\n  78 rows with Not assigned Neighborhood\n  77 rows with Not assigned Neighborhood and Borough \n\n"
                }
            ], 
            "source": "not_assigned_boroughs = neighborhood_df.index[neighborhood_df['Borough'] == 'Not assigned']\nnot_assigned_neighborhoods = neighborhood_df.index[neighborhood_df['Neighborhood'] == 'Not assigned']\nnot_assigned_neighborhoods_and_borough = not_assigned_boroughs & not_assigned_neighborhoods\n\nprint('The DataFrame shape is {}'.format(neighborhood_df.shape),'\\n')\nprint('There are:')\nprint('  {} Postal codes'.format(neighborhood_df['Postcode'].unique().shape[0]))\nprint('  {} Boroughs'.format(neighborhood_df['Borough'].unique().shape[0] - 1)) # substract one because \"not assigned\" doesn't count\nprint('  {} Neighborhoods'.format(neighborhood_df['Neighborhood'].unique().shape[0] - 1)) # substract one because \"not assigned\" doesn't count\nprint('  {} rows with Not assigned Borough'.format(not_assigned_boroughs.shape[0]))\nprint('  {} rows with Not assigned Neighborhood'.format(not_assigned_neighborhoods.shape[0]))\nprint('  {} rows with Not assigned Neighborhood and Borough'.format(not_assigned_neighborhoods_and_borough.shape[0]),'\\n')"
        }, 
        {
            "source": "The \"Not assigned\" Boroughs rows will be eliminated", 
            "cell_type": "markdown", 
            "metadata": {}
        }, 
        {
            "execution_count": 24, 
            "cell_type": "code", 
            "metadata": {}, 
            "outputs": [
                {
                    "execution_count": 24, 
                    "metadata": {}, 
                    "data": {
                        "text/html": "<div>\n<style scoped>\n    .dataframe tbody tr th:only-of-type {\n        vertical-align: middle;\n    }\n\n    .dataframe tbody tr th {\n        vertical-align: top;\n    }\n\n    .dataframe thead th {\n        text-align: right;\n    }\n</style>\n<table border=\"1\" class=\"dataframe\">\n  <thead>\n    <tr style=\"text-align: right;\">\n      <th></th>\n      <th>Postcode</th>\n      <th>Borough</th>\n      <th>Neighborhood</th>\n    </tr>\n  </thead>\n  <tbody>\n    <tr>\n      <th>0</th>\n      <td>M3A</td>\n      <td>North York</td>\n      <td>Parkwoods</td>\n    </tr>\n    <tr>\n      <th>1</th>\n      <td>M4A</td>\n      <td>North York</td>\n      <td>Victoria Village</td>\n    </tr>\n    <tr>\n      <th>2</th>\n      <td>M5A</td>\n      <td>Downtown Toronto</td>\n      <td>Harbourfront</td>\n    </tr>\n    <tr>\n      <th>3</th>\n      <td>M5A</td>\n      <td>Downtown Toronto</td>\n      <td>Regent Park</td>\n    </tr>\n    <tr>\n      <th>4</th>\n      <td>M6A</td>\n      <td>North York</td>\n      <td>Lawrence Heights</td>\n    </tr>\n    <tr>\n      <th>5</th>\n      <td>M6A</td>\n      <td>North York</td>\n      <td>Lawrence Manor</td>\n    </tr>\n    <tr>\n      <th>6</th>\n      <td>M7A</td>\n      <td>Queen's Park</td>\n      <td>Not assigned</td>\n    </tr>\n    <tr>\n      <th>7</th>\n      <td>M9A</td>\n      <td>Etobicoke</td>\n      <td>Islington Avenue</td>\n    </tr>\n    <tr>\n      <th>8</th>\n      <td>M1B</td>\n      <td>Scarborough</td>\n      <td>Rouge</td>\n    </tr>\n    <tr>\n      <th>9</th>\n      <td>M1B</td>\n      <td>Scarborough</td>\n      <td>Malvern</td>\n    </tr>\n  </tbody>\n</table>\n</div>", 
                        "text/plain": "  Postcode           Borough      Neighborhood\n0      M3A        North York         Parkwoods\n1      M4A        North York  Victoria Village\n2      M5A  Downtown Toronto      Harbourfront\n3      M5A  Downtown Toronto       Regent Park\n4      M6A        North York  Lawrence Heights\n5      M6A        North York    Lawrence Manor\n6      M7A      Queen's Park      Not assigned\n7      M9A         Etobicoke  Islington Avenue\n8      M1B       Scarborough             Rouge\n9      M1B       Scarborough           Malvern"
                    }, 
                    "output_type": "execute_result"
                }
            ], 
            "source": "\nneighborhood_df.drop(neighborhood_df.index[not_assigned_boroughs], inplace=True)\nneighborhood_df.reset_index(drop=True, inplace=True)\n\nneighborhood_df.head(10)"
        }, 
        {
            "source": "The \"Not assigned\" values in the Neighborhood column will be replace with the Borough", 
            "cell_type": "markdown", 
            "metadata": {}
        }, 
        {
            "execution_count": 25, 
            "cell_type": "code", 
            "metadata": {}, 
            "outputs": [
                {
                    "execution_count": 25, 
                    "metadata": {}, 
                    "data": {
                        "text/html": "<div>\n<style scoped>\n    .dataframe tbody tr th:only-of-type {\n        vertical-align: middle;\n    }\n\n    .dataframe tbody tr th {\n        vertical-align: top;\n    }\n\n    .dataframe thead th {\n        text-align: right;\n    }\n</style>\n<table border=\"1\" class=\"dataframe\">\n  <thead>\n    <tr style=\"text-align: right;\">\n      <th></th>\n      <th>Postcode</th>\n      <th>Borough</th>\n      <th>Neighborhood</th>\n    </tr>\n  </thead>\n  <tbody>\n    <tr>\n      <th>0</th>\n      <td>M3A</td>\n      <td>North York</td>\n      <td>Parkwoods</td>\n    </tr>\n    <tr>\n      <th>1</th>\n      <td>M4A</td>\n      <td>North York</td>\n      <td>Victoria Village</td>\n    </tr>\n    <tr>\n      <th>2</th>\n      <td>M5A</td>\n      <td>Downtown Toronto</td>\n      <td>Harbourfront</td>\n    </tr>\n    <tr>\n      <th>3</th>\n      <td>M5A</td>\n      <td>Downtown Toronto</td>\n      <td>Regent Park</td>\n    </tr>\n    <tr>\n      <th>4</th>\n      <td>M6A</td>\n      <td>North York</td>\n      <td>Lawrence Heights</td>\n    </tr>\n    <tr>\n      <th>5</th>\n      <td>M6A</td>\n      <td>North York</td>\n      <td>Lawrence Manor</td>\n    </tr>\n    <tr>\n      <th>6</th>\n      <td>M7A</td>\n      <td>Queen's Park</td>\n      <td>Queen's Park</td>\n    </tr>\n    <tr>\n      <th>7</th>\n      <td>M9A</td>\n      <td>Etobicoke</td>\n      <td>Islington Avenue</td>\n    </tr>\n    <tr>\n      <th>8</th>\n      <td>M1B</td>\n      <td>Scarborough</td>\n      <td>Rouge</td>\n    </tr>\n    <tr>\n      <th>9</th>\n      <td>M1B</td>\n      <td>Scarborough</td>\n      <td>Malvern</td>\n    </tr>\n  </tbody>\n</table>\n</div>", 
                        "text/plain": "  Postcode           Borough      Neighborhood\n0      M3A        North York         Parkwoods\n1      M4A        North York  Victoria Village\n2      M5A  Downtown Toronto      Harbourfront\n3      M5A  Downtown Toronto       Regent Park\n4      M6A        North York  Lawrence Heights\n5      M6A        North York    Lawrence Manor\n6      M7A      Queen's Park      Queen's Park\n7      M9A         Etobicoke  Islington Avenue\n8      M1B       Scarborough             Rouge\n9      M1B       Scarborough           Malvern"
                    }, 
                    "output_type": "execute_result"
                }
            ], 
            "source": "not_assigned_neighborhoods = neighborhood_df.index[neighborhood_df['Neighborhood'] == 'Not assigned'] # run this again because the indexes on the dataframe where reset\n\nfor idx in not_assigned_neighborhoods:\n    neighborhood_df['Neighborhood'][idx] = neighborhood_df['Borough'][idx]\n    \nneighborhood_df.head(10)"
        }, 
        {
            "execution_count": 26, 
            "cell_type": "code", 
            "metadata": {}, 
            "outputs": [
                {
                    "output_type": "stream", 
                    "name": "stdout", 
                    "text": "After cleaning the DataFrame, its new shape is (211, 3) \n\nThere are:\n  103 Postal codes\n  11 Boroughs\n  209 Neighborhoods\n"
                }
            ], 
            "source": "print('After cleaning the DataFrame, its new shape is {}'.format(neighborhood_df.shape),'\\n')\nprint('There are:')\nprint('  {} Postal codes'.format(neighborhood_df['Postcode'].unique().shape[0]))\nprint('  {} Boroughs'.format(neighborhood_df['Borough'].unique().shape[0]))\nprint('  {} Neighborhoods'.format(neighborhood_df['Neighborhood'].unique().shape[0]))"
        }, 
        {
            "source": "The dataframe should be group by the Postal code", 
            "cell_type": "markdown", 
            "metadata": {}
        }, 
        {
            "execution_count": 27, 
            "cell_type": "code", 
            "metadata": {}, 
            "outputs": [
                {
                    "execution_count": 27, 
                    "metadata": {}, 
                    "data": {
                        "text/html": "<div>\n<style scoped>\n    .dataframe tbody tr th:only-of-type {\n        vertical-align: middle;\n    }\n\n    .dataframe tbody tr th {\n        vertical-align: top;\n    }\n\n    .dataframe thead th {\n        text-align: right;\n    }\n</style>\n<table border=\"1\" class=\"dataframe\">\n  <thead>\n    <tr style=\"text-align: right;\">\n      <th></th>\n      <th>Postcode</th>\n      <th>Borough</th>\n      <th>Neighborhood</th>\n    </tr>\n  </thead>\n  <tbody>\n    <tr>\n      <th>0</th>\n      <td>M1B</td>\n      <td>Scarborough</td>\n      <td>Rouge, Malvern</td>\n    </tr>\n    <tr>\n      <th>1</th>\n      <td>M1C</td>\n      <td>Scarborough</td>\n      <td>Highland Creek, Rouge Hill, Port Union</td>\n    </tr>\n    <tr>\n      <th>2</th>\n      <td>M1E</td>\n      <td>Scarborough</td>\n      <td>Guildwood, Morningside, West Hill</td>\n    </tr>\n    <tr>\n      <th>3</th>\n      <td>M1G</td>\n      <td>Scarborough</td>\n      <td>Woburn</td>\n    </tr>\n    <tr>\n      <th>4</th>\n      <td>M1H</td>\n      <td>Scarborough</td>\n      <td>Cedarbrae</td>\n    </tr>\n    <tr>\n      <th>5</th>\n      <td>M1J</td>\n      <td>Scarborough</td>\n      <td>Scarborough Village</td>\n    </tr>\n    <tr>\n      <th>6</th>\n      <td>M1K</td>\n      <td>Scarborough</td>\n      <td>East Birchmount Park, Ionview, Kennedy Park</td>\n    </tr>\n    <tr>\n      <th>7</th>\n      <td>M1L</td>\n      <td>Scarborough</td>\n      <td>Clairlea, Golden Mile, Oakridge</td>\n    </tr>\n    <tr>\n      <th>8</th>\n      <td>M1M</td>\n      <td>Scarborough</td>\n      <td>Cliffcrest, Cliffside, Scarborough Village West</td>\n    </tr>\n    <tr>\n      <th>9</th>\n      <td>M1N</td>\n      <td>Scarborough</td>\n      <td>Birch Cliff, Cliffside West</td>\n    </tr>\n  </tbody>\n</table>\n</div>", 
                        "text/plain": "  Postcode      Borough                                     Neighborhood\n0      M1B  Scarborough                                   Rouge, Malvern\n1      M1C  Scarborough           Highland Creek, Rouge Hill, Port Union\n2      M1E  Scarborough                Guildwood, Morningside, West Hill\n3      M1G  Scarborough                                           Woburn\n4      M1H  Scarborough                                        Cedarbrae\n5      M1J  Scarborough                              Scarborough Village\n6      M1K  Scarborough      East Birchmount Park, Ionview, Kennedy Park\n7      M1L  Scarborough                  Clairlea, Golden Mile, Oakridge\n8      M1M  Scarborough  Cliffcrest, Cliffside, Scarborough Village West\n9      M1N  Scarborough                      Birch Cliff, Cliffside West"
                    }, 
                    "output_type": "execute_result"
                }
            ], 
            "source": "group = neighborhood_df.groupby('Postcode')\ngrouped_neighborhoods = group['Neighborhood'].apply(lambda x: \"%s\" % ', '.join(x))\ngrouped_boroughs = group['Borough'].apply(lambda x: set(x).pop())\ngrouped_df = pd.DataFrame(list(zip(grouped_boroughs.index, grouped_boroughs, grouped_neighborhoods)))\ngrouped_df.columns = ['Postcode', 'Borough', 'Neighborhood']\n\ngrouped_df.head(10)"
        }, 
        {
            "execution_count": 28, 
            "cell_type": "code", 
            "metadata": {}, 
            "outputs": [
                {
                    "output_type": "stream", 
                    "name": "stdout", 
                    "text": "The DataFrame shape is (103, 3)\n"
                }
            ], 
            "source": "print('The DataFrame shape is', grouped_df.shape)"
        }, 
        {
            "source": "Extract geospatial coordinates", 
            "cell_type": "markdown", 
            "metadata": {}
        }, 
        {
            "execution_count": 29, 
            "cell_type": "code", 
            "metadata": {}, 
            "outputs": [
                {
                    "output_type": "stream", 
                    "name": "stdout", 
                    "text": "The coordinates dataframe shape is (103, 3)\n"
                }, 
                {
                    "execution_count": 29, 
                    "metadata": {}, 
                    "data": {
                        "text/html": "<div>\n<style scoped>\n    .dataframe tbody tr th:only-of-type {\n        vertical-align: middle;\n    }\n\n    .dataframe tbody tr th {\n        vertical-align: top;\n    }\n\n    .dataframe thead th {\n        text-align: right;\n    }\n</style>\n<table border=\"1\" class=\"dataframe\">\n  <thead>\n    <tr style=\"text-align: right;\">\n      <th></th>\n      <th>Postal Code</th>\n      <th>Latitude</th>\n      <th>Longitude</th>\n    </tr>\n  </thead>\n  <tbody>\n    <tr>\n      <th>0</th>\n      <td>M1B</td>\n      <td>43.806686</td>\n      <td>-79.194353</td>\n    </tr>\n    <tr>\n      <th>1</th>\n      <td>M1C</td>\n      <td>43.784535</td>\n      <td>-79.160497</td>\n    </tr>\n    <tr>\n      <th>2</th>\n      <td>M1E</td>\n      <td>43.763573</td>\n      <td>-79.188711</td>\n    </tr>\n    <tr>\n      <th>3</th>\n      <td>M1G</td>\n      <td>43.770992</td>\n      <td>-79.216917</td>\n    </tr>\n    <tr>\n      <th>4</th>\n      <td>M1H</td>\n      <td>43.773136</td>\n      <td>-79.239476</td>\n    </tr>\n  </tbody>\n</table>\n</div>", 
                        "text/plain": "  Postal Code   Latitude  Longitude\n0         M1B  43.806686 -79.194353\n1         M1C  43.784535 -79.160497\n2         M1E  43.763573 -79.188711\n3         M1G  43.770992 -79.216917\n4         M1H  43.773136 -79.239476"
                    }, 
                    "output_type": "execute_result"
                }
            ], 
            "source": "import requests\nimport io\nfrom io import StringIO\n\n\n\nurl=\"https://raw.githubusercontent.com/fuadmail/Coursera_Capstone/master/Geospatial_Coordinates.csv\"\n\n\nimport pandas as pd\nimport io\nimport requests\n\ns = requests.get(url).content\ncoordinates_df = pd.read_csv(io.StringIO(s.decode('utf-8')))\n\nprint('The coordinates dataframe shape is', coordinates_df.shape)\ncoordinates_df.head()\n\n"
        }, 
        {
            "source": "Add the coordinates to the neighborhood dataframe", 
            "cell_type": "markdown", 
            "metadata": {}
        }, 
        {
            "execution_count": 33, 
            "cell_type": "code", 
            "metadata": {}, 
            "outputs": [
                {
                    "execution_count": 33, 
                    "metadata": {}, 
                    "data": {
                        "text/html": "<div>\n<style scoped>\n    .dataframe tbody tr th:only-of-type {\n        vertical-align: middle;\n    }\n\n    .dataframe tbody tr th {\n        vertical-align: top;\n    }\n\n    .dataframe thead th {\n        text-align: right;\n    }\n</style>\n<table border=\"1\" class=\"dataframe\">\n  <thead>\n    <tr style=\"text-align: right;\">\n      <th></th>\n      <th>Postcode</th>\n      <th>Borough</th>\n      <th>Neighborhood</th>\n      <th>Latitude</th>\n      <th>Longitude</th>\n    </tr>\n  </thead>\n  <tbody>\n    <tr>\n      <th>0</th>\n      <td>M1B</td>\n      <td>Scarborough</td>\n      <td>Rouge, Malvern</td>\n      <td>43.806686</td>\n      <td>-79.194353</td>\n    </tr>\n    <tr>\n      <th>1</th>\n      <td>M1C</td>\n      <td>Scarborough</td>\n      <td>Highland Creek, Rouge Hill, Port Union</td>\n      <td>43.784535</td>\n      <td>-79.160497</td>\n    </tr>\n    <tr>\n      <th>2</th>\n      <td>M1E</td>\n      <td>Scarborough</td>\n      <td>Guildwood, Morningside, West Hill</td>\n      <td>43.763573</td>\n      <td>-79.188711</td>\n    </tr>\n    <tr>\n      <th>3</th>\n      <td>M1G</td>\n      <td>Scarborough</td>\n      <td>Woburn</td>\n      <td>43.770992</td>\n      <td>-79.216917</td>\n    </tr>\n    <tr>\n      <th>4</th>\n      <td>M1H</td>\n      <td>Scarborough</td>\n      <td>Cedarbrae</td>\n      <td>43.773136</td>\n      <td>-79.239476</td>\n    </tr>\n    <tr>\n      <th>5</th>\n      <td>M1J</td>\n      <td>Scarborough</td>\n      <td>Scarborough Village</td>\n      <td>43.744734</td>\n      <td>-79.239476</td>\n    </tr>\n    <tr>\n      <th>6</th>\n      <td>M1K</td>\n      <td>Scarborough</td>\n      <td>East Birchmount Park, Ionview, Kennedy Park</td>\n      <td>43.727929</td>\n      <td>-79.262029</td>\n    </tr>\n    <tr>\n      <th>7</th>\n      <td>M1L</td>\n      <td>Scarborough</td>\n      <td>Clairlea, Golden Mile, Oakridge</td>\n      <td>43.711112</td>\n      <td>-79.284577</td>\n    </tr>\n    <tr>\n      <th>8</th>\n      <td>M1M</td>\n      <td>Scarborough</td>\n      <td>Cliffcrest, Cliffside, Scarborough Village West</td>\n      <td>43.716316</td>\n      <td>-79.239476</td>\n    </tr>\n    <tr>\n      <th>9</th>\n      <td>M1N</td>\n      <td>Scarborough</td>\n      <td>Birch Cliff, Cliffside West</td>\n      <td>43.692657</td>\n      <td>-79.264848</td>\n    </tr>\n    <tr>\n      <th>10</th>\n      <td>M1P</td>\n      <td>Scarborough</td>\n      <td>Dorset Park, Scarborough Town Centre, Wexford ...</td>\n      <td>43.757410</td>\n      <td>-79.273304</td>\n    </tr>\n    <tr>\n      <th>11</th>\n      <td>M1R</td>\n      <td>Scarborough</td>\n      <td>Maryvale, Wexford</td>\n      <td>43.750072</td>\n      <td>-79.295849</td>\n    </tr>\n    <tr>\n      <th>12</th>\n      <td>M1S</td>\n      <td>Scarborough</td>\n      <td>Agincourt</td>\n      <td>43.794200</td>\n      <td>-79.262029</td>\n    </tr>\n    <tr>\n      <th>13</th>\n      <td>M1T</td>\n      <td>Scarborough</td>\n      <td>Clarks Corners, Sullivan, Tam O'Shanter</td>\n      <td>43.781638</td>\n      <td>-79.304302</td>\n    </tr>\n    <tr>\n      <th>14</th>\n      <td>M1V</td>\n      <td>Scarborough</td>\n      <td>Agincourt North, L'Amoreaux East, Milliken, St...</td>\n      <td>43.815252</td>\n      <td>-79.284577</td>\n    </tr>\n    <tr>\n      <th>15</th>\n      <td>M1W</td>\n      <td>Scarborough</td>\n      <td>L'Amoreaux West</td>\n      <td>43.799525</td>\n      <td>-79.318389</td>\n    </tr>\n    <tr>\n      <th>16</th>\n      <td>M1X</td>\n      <td>Scarborough</td>\n      <td>Upper Rouge</td>\n      <td>43.836125</td>\n      <td>-79.205636</td>\n    </tr>\n    <tr>\n      <th>17</th>\n      <td>M2H</td>\n      <td>North York</td>\n      <td>Hillcrest Village</td>\n      <td>43.803762</td>\n      <td>-79.363452</td>\n    </tr>\n    <tr>\n      <th>18</th>\n      <td>M2J</td>\n      <td>North York</td>\n      <td>Fairview, Henry Farm, Oriole</td>\n      <td>43.778517</td>\n      <td>-79.346556</td>\n    </tr>\n    <tr>\n      <th>19</th>\n      <td>M2K</td>\n      <td>North York</td>\n      <td>Bayview Village</td>\n      <td>43.786947</td>\n      <td>-79.385975</td>\n    </tr>\n    <tr>\n      <th>20</th>\n      <td>M2L</td>\n      <td>North York</td>\n      <td>Silver Hills, York Mills</td>\n      <td>43.757490</td>\n      <td>-79.374714</td>\n    </tr>\n    <tr>\n      <th>21</th>\n      <td>M2M</td>\n      <td>North York</td>\n      <td>Newtonbrook, Willowdale</td>\n      <td>43.789053</td>\n      <td>-79.408493</td>\n    </tr>\n    <tr>\n      <th>22</th>\n      <td>M2N</td>\n      <td>North York</td>\n      <td>Willowdale South</td>\n      <td>43.770120</td>\n      <td>-79.408493</td>\n    </tr>\n    <tr>\n      <th>23</th>\n      <td>M2P</td>\n      <td>North York</td>\n      <td>York Mills West</td>\n      <td>43.752758</td>\n      <td>-79.400049</td>\n    </tr>\n    <tr>\n      <th>24</th>\n      <td>M2R</td>\n      <td>North York</td>\n      <td>Willowdale West</td>\n      <td>43.782736</td>\n      <td>-79.442259</td>\n    </tr>\n    <tr>\n      <th>25</th>\n      <td>M3A</td>\n      <td>North York</td>\n      <td>Parkwoods</td>\n      <td>43.753259</td>\n      <td>-79.329656</td>\n    </tr>\n    <tr>\n      <th>26</th>\n      <td>M3B</td>\n      <td>North York</td>\n      <td>Don Mills North</td>\n      <td>43.745906</td>\n      <td>-79.352188</td>\n    </tr>\n    <tr>\n      <th>27</th>\n      <td>M3C</td>\n      <td>North York</td>\n      <td>Flemingdon Park, Don Mills South</td>\n      <td>43.725900</td>\n      <td>-79.340923</td>\n    </tr>\n    <tr>\n      <th>28</th>\n      <td>M3H</td>\n      <td>North York</td>\n      <td>Bathurst Manor, Downsview North, Wilson Heights</td>\n      <td>43.754328</td>\n      <td>-79.442259</td>\n    </tr>\n    <tr>\n      <th>29</th>\n      <td>M3J</td>\n      <td>North York</td>\n      <td>Northwood Park, York University</td>\n      <td>43.767980</td>\n      <td>-79.487262</td>\n    </tr>\n    <tr>\n      <th>30</th>\n      <td>M3K</td>\n      <td>North York</td>\n      <td>CFB Toronto, Downsview East</td>\n      <td>43.737473</td>\n      <td>-79.464763</td>\n    </tr>\n    <tr>\n      <th>31</th>\n      <td>M3L</td>\n      <td>North York</td>\n      <td>Downsview West</td>\n      <td>43.739015</td>\n      <td>-79.506944</td>\n    </tr>\n    <tr>\n      <th>32</th>\n      <td>M3M</td>\n      <td>North York</td>\n      <td>Downsview Central</td>\n      <td>43.728496</td>\n      <td>-79.495697</td>\n    </tr>\n    <tr>\n      <th>33</th>\n      <td>M3N</td>\n      <td>North York</td>\n      <td>Downsview Northwest</td>\n      <td>43.761631</td>\n      <td>-79.520999</td>\n    </tr>\n    <tr>\n      <th>34</th>\n      <td>M4A</td>\n      <td>North York</td>\n      <td>Victoria Village</td>\n      <td>43.725882</td>\n      <td>-79.315572</td>\n    </tr>\n    <tr>\n      <th>35</th>\n      <td>M4B</td>\n      <td>East York</td>\n      <td>Woodbine Gardens, Parkview Hill</td>\n      <td>43.706397</td>\n      <td>-79.309937</td>\n    </tr>\n    <tr>\n      <th>36</th>\n      <td>M4C</td>\n      <td>East York</td>\n      <td>Woodbine Heights</td>\n      <td>43.695344</td>\n      <td>-79.318389</td>\n    </tr>\n    <tr>\n      <th>37</th>\n      <td>M4E</td>\n      <td>East Toronto</td>\n      <td>The Beaches</td>\n      <td>43.676357</td>\n      <td>-79.293031</td>\n    </tr>\n    <tr>\n      <th>38</th>\n      <td>M4G</td>\n      <td>East York</td>\n      <td>Leaside</td>\n      <td>43.709060</td>\n      <td>-79.363452</td>\n    </tr>\n    <tr>\n      <th>39</th>\n      <td>M4H</td>\n      <td>East York</td>\n      <td>Thorncliffe Park</td>\n      <td>43.705369</td>\n      <td>-79.349372</td>\n    </tr>\n    <tr>\n      <th>40</th>\n      <td>M4J</td>\n      <td>East York</td>\n      <td>East Toronto</td>\n      <td>43.685347</td>\n      <td>-79.338106</td>\n    </tr>\n    <tr>\n      <th>41</th>\n      <td>M4K</td>\n      <td>East Toronto</td>\n      <td>The Danforth West, Riverdale</td>\n      <td>43.679557</td>\n      <td>-79.352188</td>\n    </tr>\n    <tr>\n      <th>42</th>\n      <td>M4L</td>\n      <td>East Toronto</td>\n      <td>The Beaches West, India Bazaar</td>\n      <td>43.668999</td>\n      <td>-79.315572</td>\n    </tr>\n    <tr>\n      <th>43</th>\n      <td>M4M</td>\n      <td>East Toronto</td>\n      <td>Studio District</td>\n      <td>43.659526</td>\n      <td>-79.340923</td>\n    </tr>\n    <tr>\n      <th>44</th>\n      <td>M4N</td>\n      <td>Central Toronto</td>\n      <td>Lawrence Park</td>\n      <td>43.728020</td>\n      <td>-79.388790</td>\n    </tr>\n    <tr>\n      <th>45</th>\n      <td>M4P</td>\n      <td>Central Toronto</td>\n      <td>Davisville North</td>\n      <td>43.712751</td>\n      <td>-79.390197</td>\n    </tr>\n    <tr>\n      <th>46</th>\n      <td>M4R</td>\n      <td>Central Toronto</td>\n      <td>North Toronto West</td>\n      <td>43.715383</td>\n      <td>-79.405678</td>\n    </tr>\n    <tr>\n      <th>47</th>\n      <td>M4S</td>\n      <td>Central Toronto</td>\n      <td>Davisville</td>\n      <td>43.704324</td>\n      <td>-79.388790</td>\n    </tr>\n    <tr>\n      <th>48</th>\n      <td>M4T</td>\n      <td>Central Toronto</td>\n      <td>Moore Park, Summerhill East</td>\n      <td>43.689574</td>\n      <td>-79.383160</td>\n    </tr>\n    <tr>\n      <th>49</th>\n      <td>M4V</td>\n      <td>Central Toronto</td>\n      <td>Deer Park, Forest Hill SE, Rathnelly, South Hi...</td>\n      <td>43.686412</td>\n      <td>-79.400049</td>\n    </tr>\n    <tr>\n      <th>50</th>\n      <td>M4W</td>\n      <td>Downtown Toronto</td>\n      <td>Rosedale</td>\n      <td>43.679563</td>\n      <td>-79.377529</td>\n    </tr>\n    <tr>\n      <th>51</th>\n      <td>M4X</td>\n      <td>Downtown Toronto</td>\n      <td>Cabbagetown, St. James Town</td>\n      <td>43.667967</td>\n      <td>-79.367675</td>\n    </tr>\n    <tr>\n      <th>52</th>\n      <td>M4Y</td>\n      <td>Downtown Toronto</td>\n      <td>Church and Wellesley</td>\n      <td>43.665860</td>\n      <td>-79.383160</td>\n    </tr>\n    <tr>\n      <th>53</th>\n      <td>M5A</td>\n      <td>Downtown Toronto</td>\n      <td>Harbourfront, Regent Park</td>\n      <td>43.654260</td>\n      <td>-79.360636</td>\n    </tr>\n    <tr>\n      <th>54</th>\n      <td>M5B</td>\n      <td>Downtown Toronto</td>\n      <td>Ryerson, Garden District</td>\n      <td>43.657162</td>\n      <td>-79.378937</td>\n    </tr>\n    <tr>\n      <th>55</th>\n      <td>M5C</td>\n      <td>Downtown Toronto</td>\n      <td>St. James Town</td>\n      <td>43.651494</td>\n      <td>-79.375418</td>\n    </tr>\n    <tr>\n      <th>56</th>\n      <td>M5E</td>\n      <td>Downtown Toronto</td>\n      <td>Berczy Park</td>\n      <td>43.644771</td>\n      <td>-79.373306</td>\n    </tr>\n    <tr>\n      <th>57</th>\n      <td>M5G</td>\n      <td>Downtown Toronto</td>\n      <td>Central Bay Street</td>\n      <td>43.657952</td>\n      <td>-79.387383</td>\n    </tr>\n    <tr>\n      <th>58</th>\n      <td>M5H</td>\n      <td>Downtown Toronto</td>\n      <td>Adelaide, King, Richmond</td>\n      <td>43.650571</td>\n      <td>-79.384568</td>\n    </tr>\n    <tr>\n      <th>59</th>\n      <td>M5J</td>\n      <td>Downtown Toronto</td>\n      <td>Harbourfront East, Toronto Islands, Union Station</td>\n      <td>43.640816</td>\n      <td>-79.381752</td>\n    </tr>\n  </tbody>\n</table>\n</div>", 
                        "text/plain": "   Postcode           Borough  \\\n0       M1B       Scarborough   \n1       M1C       Scarborough   \n2       M1E       Scarborough   \n3       M1G       Scarborough   \n4       M1H       Scarborough   \n5       M1J       Scarborough   \n6       M1K       Scarborough   \n7       M1L       Scarborough   \n8       M1M       Scarborough   \n9       M1N       Scarborough   \n10      M1P       Scarborough   \n11      M1R       Scarborough   \n12      M1S       Scarborough   \n13      M1T       Scarborough   \n14      M1V       Scarborough   \n15      M1W       Scarborough   \n16      M1X       Scarborough   \n17      M2H        North York   \n18      M2J        North York   \n19      M2K        North York   \n20      M2L        North York   \n21      M2M        North York   \n22      M2N        North York   \n23      M2P        North York   \n24      M2R        North York   \n25      M3A        North York   \n26      M3B        North York   \n27      M3C        North York   \n28      M3H        North York   \n29      M3J        North York   \n30      M3K        North York   \n31      M3L        North York   \n32      M3M        North York   \n33      M3N        North York   \n34      M4A        North York   \n35      M4B         East York   \n36      M4C         East York   \n37      M4E      East Toronto   \n38      M4G         East York   \n39      M4H         East York   \n40      M4J         East York   \n41      M4K      East Toronto   \n42      M4L      East Toronto   \n43      M4M      East Toronto   \n44      M4N   Central Toronto   \n45      M4P   Central Toronto   \n46      M4R   Central Toronto   \n47      M4S   Central Toronto   \n48      M4T   Central Toronto   \n49      M4V   Central Toronto   \n50      M4W  Downtown Toronto   \n51      M4X  Downtown Toronto   \n52      M4Y  Downtown Toronto   \n53      M5A  Downtown Toronto   \n54      M5B  Downtown Toronto   \n55      M5C  Downtown Toronto   \n56      M5E  Downtown Toronto   \n57      M5G  Downtown Toronto   \n58      M5H  Downtown Toronto   \n59      M5J  Downtown Toronto   \n\n                                         Neighborhood   Latitude  Longitude  \n0                                      Rouge, Malvern  43.806686 -79.194353  \n1              Highland Creek, Rouge Hill, Port Union  43.784535 -79.160497  \n2                   Guildwood, Morningside, West Hill  43.763573 -79.188711  \n3                                              Woburn  43.770992 -79.216917  \n4                                           Cedarbrae  43.773136 -79.239476  \n5                                 Scarborough Village  43.744734 -79.239476  \n6         East Birchmount Park, Ionview, Kennedy Park  43.727929 -79.262029  \n7                     Clairlea, Golden Mile, Oakridge  43.711112 -79.284577  \n8     Cliffcrest, Cliffside, Scarborough Village West  43.716316 -79.239476  \n9                         Birch Cliff, Cliffside West  43.692657 -79.264848  \n10  Dorset Park, Scarborough Town Centre, Wexford ...  43.757410 -79.273304  \n11                                  Maryvale, Wexford  43.750072 -79.295849  \n12                                          Agincourt  43.794200 -79.262029  \n13            Clarks Corners, Sullivan, Tam O'Shanter  43.781638 -79.304302  \n14  Agincourt North, L'Amoreaux East, Milliken, St...  43.815252 -79.284577  \n15                                    L'Amoreaux West  43.799525 -79.318389  \n16                                        Upper Rouge  43.836125 -79.205636  \n17                                  Hillcrest Village  43.803762 -79.363452  \n18                       Fairview, Henry Farm, Oriole  43.778517 -79.346556  \n19                                    Bayview Village  43.786947 -79.385975  \n20                           Silver Hills, York Mills  43.757490 -79.374714  \n21                            Newtonbrook, Willowdale  43.789053 -79.408493  \n22                                   Willowdale South  43.770120 -79.408493  \n23                                    York Mills West  43.752758 -79.400049  \n24                                    Willowdale West  43.782736 -79.442259  \n25                                          Parkwoods  43.753259 -79.329656  \n26                                    Don Mills North  43.745906 -79.352188  \n27                   Flemingdon Park, Don Mills South  43.725900 -79.340923  \n28    Bathurst Manor, Downsview North, Wilson Heights  43.754328 -79.442259  \n29                    Northwood Park, York University  43.767980 -79.487262  \n30                        CFB Toronto, Downsview East  43.737473 -79.464763  \n31                                     Downsview West  43.739015 -79.506944  \n32                                  Downsview Central  43.728496 -79.495697  \n33                                Downsview Northwest  43.761631 -79.520999  \n34                                   Victoria Village  43.725882 -79.315572  \n35                    Woodbine Gardens, Parkview Hill  43.706397 -79.309937  \n36                                   Woodbine Heights  43.695344 -79.318389  \n37                                        The Beaches  43.676357 -79.293031  \n38                                            Leaside  43.709060 -79.363452  \n39                                   Thorncliffe Park  43.705369 -79.349372  \n40                                       East Toronto  43.685347 -79.338106  \n41                       The Danforth West, Riverdale  43.679557 -79.352188  \n42                     The Beaches West, India Bazaar  43.668999 -79.315572  \n43                                    Studio District  43.659526 -79.340923  \n44                                      Lawrence Park  43.728020 -79.388790  \n45                                   Davisville North  43.712751 -79.390197  \n46                                 North Toronto West  43.715383 -79.405678  \n47                                         Davisville  43.704324 -79.388790  \n48                        Moore Park, Summerhill East  43.689574 -79.383160  \n49  Deer Park, Forest Hill SE, Rathnelly, South Hi...  43.686412 -79.400049  \n50                                           Rosedale  43.679563 -79.377529  \n51                        Cabbagetown, St. James Town  43.667967 -79.367675  \n52                               Church and Wellesley  43.665860 -79.383160  \n53                          Harbourfront, Regent Park  43.654260 -79.360636  \n54                           Ryerson, Garden District  43.657162 -79.378937  \n55                                     St. James Town  43.651494 -79.375418  \n56                                        Berczy Park  43.644771 -79.373306  \n57                                 Central Bay Street  43.657952 -79.387383  \n58                           Adelaide, King, Richmond  43.650571 -79.384568  \n59  Harbourfront East, Toronto Islands, Union Station  43.640816 -79.381752  "
                    }, 
                    "output_type": "execute_result"
                }
            ], 
            "source": "postcodes_with_coordinates_df = grouped_df.join(coordinates_df.set_index('Postal Code'), on='Postcode')\n\npostcodes_with_coordinates_df.head(60)"
        }
    ], 
    "metadata": {
        "kernelspec": {
            "display_name": "Python 3.6", 
            "name": "python3", 
            "language": "python"
        }, 
        "language_info": {
            "mimetype": "text/x-python", 
            "nbconvert_exporter": "python", 
            "version": "3.6.8", 
            "name": "python", 
            "file_extension": ".py", 
            "pygments_lexer": "ipython3", 
            "codemirror_mode": {
                "version": 3, 
                "name": "ipython"
            }
        }
    }, 
    "nbformat": 4
}