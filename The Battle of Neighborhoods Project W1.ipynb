{
    "nbformat_minor": 2, 
    "cells": [
        {
            "source": "# The Battle of Neighborhoods Project - London Real Estate", 
            "cell_type": "markdown", 
            "metadata": {}
        }, 
        {
            "source": "## Introduction\n\nThe city of London is the capital of UK and most populous city in UK. It provides lot of business opportunities and business friendly environment. It has attracted many people for living in London. It is a diverse and main tourist city in UK. It is a global hub of the world. The city is a major center for tourism, real estate, entertainment, theater, fashion, and the arts in the United Kinkdom.This also means that the market of real estate business is highly competitive. As it is highly developed city, buying house is one of the highest cost. Thus, buying house in this fabulous city needs to be analysed carefully. The insights derived from analysis will give good understanding of the proper cost of houses in London and will help us for clear strategically decision. Also, guid in reduction of risk and the return on investment to be reasonable.\n\n\n## Business Problem\n\nIn this scenario, it would be a great to adopt machine learning tools to assist homebuyers to make wise and effective decisions. As a result, the business problem that proposing is how could we provide support to homebuyers clientele to purchase a suitable real estate in London? in this uncertain economic and financial scenario? \n\nTo solve this business problem, we are going to cluster London neighborhoods in order to recommend venues and the current average price of real estate where homebuyers can make a real estate investment. We will recommend profitable venues according to amenities and essential facilities surrounding such venues, example elementary schools, high schools, hospitals & grocery stores.\n\n\n", 
            "cell_type": "markdown", 
            "metadata": {}
        }, 
        {
            "source": "##  Data Section", 
            "cell_type": "markdown", 
            "metadata": {}
        }, 
        {
            "source": "Data related to London properties including houses prices will be going to extracted from the Land Registry (http://landregistry.data.gov.uk/). The following fields comprise the address data included in Price paid Data: Postcode, Primary Addressable, Object Name. Street; Town; District.\n\nThe Foursquare API will be used to explore locations across different venues according to the presence of amenities and essential facilities. The Foursquare explore function will be used to get the most common venue categories in each neighborhood, and then use this feature to group the neighborhoods into clusters. The k-means clustering algorithm will be used for the analysis. In the end, the Folium library will be used to visualize locations and facilities and their emerging clusters. In the end, recommendation of profitable real estate investments will be given.\n", 
            "cell_type": "markdown", 
            "metadata": {}
        }, 
        {
            "source": "####  Data Source", 
            "cell_type": "markdown", 
            "metadata": {}
        }, 
        {
            "execution_count": 3, 
            "cell_type": "code", 
            "metadata": {}, 
            "outputs": [
                {
                    "output_type": "stream", 
                    "name": "stdout", 
                    "text": "Solving environment: done\n\n# All requested packages already installed.\n\nSolving environment: done\n\n# All requested packages already installed.\n\nLibraries imported.\n"
                }
            ], 
            "source": "import os # Operating System\nimport numpy as np\nimport pandas as pd\nimport datetime as dt # Datetime\nimport json # library to handle JSON files\n\n\n\n!conda install -c conda-forge geopy --yes\nfrom geopy.geocoders import Nominatim # convert an address into latitude and longitude values\n\nimport requests # library to handle requests\nfrom pandas.io.json import json_normalize # tranform JSON file into a pandas dataframe\n\n# Matplotlib and associated plotting modules\nimport matplotlib.cm as cm\nimport matplotlib.colors as colors\n\n!conda install -c conda-forge folium=0.5.0 --yes\nimport folium #import folium # map rendering library\n\nprint('Libraries imported.')"
        }, 
        {
            "execution_count": 5, 
            "cell_type": "code", 
            "metadata": {}, 
            "outputs": [], 
            "source": "#Extract Data\ndf_hp = pd.read_csv(\"http://prod2.publicdata.landregistry.gov.uk.s3-website-eu-west-1.amazonaws.com/pp-2018.csv\")"
        }, 
        {
            "source": "#### Data Extraction", 
            "cell_type": "markdown", 
            "metadata": {}
        }, 
        {
            "source": "Read and display extracted Data from \"Land Registry\"", 
            "cell_type": "markdown", 
            "metadata": {}
        }, 
        {
            "execution_count": 6, 
            "cell_type": "code", 
            "metadata": {
                "scrolled": true
            }, 
            "outputs": [
                {
                    "execution_count": 6, 
                    "metadata": {}, 
                    "data": {
                        "text/html": "<div>\n<style scoped>\n    .dataframe tbody tr th:only-of-type {\n        vertical-align: middle;\n    }\n\n    .dataframe tbody tr th {\n        vertical-align: top;\n    }\n\n    .dataframe thead th {\n        text-align: right;\n    }\n</style>\n<table border=\"1\" class=\"dataframe\">\n  <thead>\n    <tr style=\"text-align: right;\">\n      <th></th>\n      <th>{666758D7-43A9-3363-E053-6B04A8C0D74E}</th>\n      <th>405000</th>\n      <th>2018-01-25 00:00</th>\n      <th>WR15 8LH</th>\n      <th>D</th>\n      <th>N</th>\n      <th>F</th>\n      <th>RAMBLERS WAY</th>\n      <th>Unnamed: 8</th>\n      <th>Unnamed: 9</th>\n      <th>BORASTON</th>\n      <th>TENBURY WELLS</th>\n      <th>SHROPSHIRE</th>\n      <th>SHROPSHIRE.1</th>\n      <th>A</th>\n      <th>A.1</th>\n    </tr>\n  </thead>\n  <tbody>\n    <tr>\n      <th>0</th>\n      <td>{666758D7-43AA-3363-E053-6B04A8C0D74E}</td>\n      <td>315000</td>\n      <td>2018-01-23 00:00</td>\n      <td>SY7 8QA</td>\n      <td>D</td>\n      <td>N</td>\n      <td>F</td>\n      <td>MONT CENISE</td>\n      <td>NaN</td>\n      <td>NaN</td>\n      <td>CLUN</td>\n      <td>CRAVEN ARMS</td>\n      <td>SHROPSHIRE</td>\n      <td>SHROPSHIRE</td>\n      <td>A</td>\n      <td>A</td>\n    </tr>\n    <tr>\n      <th>1</th>\n      <td>{666758D7-43AD-3363-E053-6B04A8C0D74E}</td>\n      <td>165000</td>\n      <td>2018-01-19 00:00</td>\n      <td>SY1 2BF</td>\n      <td>T</td>\n      <td>Y</td>\n      <td>F</td>\n      <td>42</td>\n      <td>NaN</td>\n      <td>PENSON WAY</td>\n      <td>NaN</td>\n      <td>SHREWSBURY</td>\n      <td>SHROPSHIRE</td>\n      <td>SHROPSHIRE</td>\n      <td>A</td>\n      <td>A</td>\n    </tr>\n    <tr>\n      <th>2</th>\n      <td>{666758D7-43B0-3363-E053-6B04A8C0D74E}</td>\n      <td>370000</td>\n      <td>2018-01-22 00:00</td>\n      <td>SY8 4DF</td>\n      <td>D</td>\n      <td>N</td>\n      <td>F</td>\n      <td>WILLOW HEY</td>\n      <td>NaN</td>\n      <td>NaN</td>\n      <td>ASHFORD CARBONEL</td>\n      <td>LUDLOW</td>\n      <td>SHROPSHIRE</td>\n      <td>SHROPSHIRE</td>\n      <td>A</td>\n      <td>A</td>\n    </tr>\n    <tr>\n      <th>3</th>\n      <td>{666758D7-43B3-3363-E053-6B04A8C0D74E}</td>\n      <td>320000</td>\n      <td>2018-01-19 00:00</td>\n      <td>TF10 7ET</td>\n      <td>D</td>\n      <td>N</td>\n      <td>F</td>\n      <td>3</td>\n      <td>NaN</td>\n      <td>PRINCESS GARDENS</td>\n      <td>NaN</td>\n      <td>NEWPORT</td>\n      <td>WREKIN</td>\n      <td>WREKIN</td>\n      <td>A</td>\n      <td>A</td>\n    </tr>\n    <tr>\n      <th>4</th>\n      <td>{666758D7-43B4-3363-E053-6B04A8C0D74E}</td>\n      <td>180000</td>\n      <td>2018-01-31 00:00</td>\n      <td>SY3 0NQ</td>\n      <td>S</td>\n      <td>N</td>\n      <td>F</td>\n      <td>79</td>\n      <td>NaN</td>\n      <td>LYTHWOOD ROAD</td>\n      <td>BAYSTON HILL</td>\n      <td>SHREWSBURY</td>\n      <td>SHROPSHIRE</td>\n      <td>SHROPSHIRE</td>\n      <td>A</td>\n      <td>A</td>\n    </tr>\n  </tbody>\n</table>\n</div>", 
                        "text/plain": "   {666758D7-43A9-3363-E053-6B04A8C0D74E}  405000  2018-01-25 00:00  WR15 8LH  \\\n0  {666758D7-43AA-3363-E053-6B04A8C0D74E}  315000  2018-01-23 00:00   SY7 8QA   \n1  {666758D7-43AD-3363-E053-6B04A8C0D74E}  165000  2018-01-19 00:00   SY1 2BF   \n2  {666758D7-43B0-3363-E053-6B04A8C0D74E}  370000  2018-01-22 00:00   SY8 4DF   \n3  {666758D7-43B3-3363-E053-6B04A8C0D74E}  320000  2018-01-19 00:00  TF10 7ET   \n4  {666758D7-43B4-3363-E053-6B04A8C0D74E}  180000  2018-01-31 00:00   SY3 0NQ   \n\n   D  N  F RAMBLERS WAY Unnamed: 8        Unnamed: 9          BORASTON  \\\n0  D  N  F  MONT CENISE        NaN               NaN              CLUN   \n1  T  Y  F           42        NaN        PENSON WAY               NaN   \n2  D  N  F   WILLOW HEY        NaN               NaN  ASHFORD CARBONEL   \n3  D  N  F            3        NaN  PRINCESS GARDENS               NaN   \n4  S  N  F           79        NaN     LYTHWOOD ROAD      BAYSTON HILL   \n\n  TENBURY WELLS  SHROPSHIRE SHROPSHIRE.1  A A.1  \n0   CRAVEN ARMS  SHROPSHIRE   SHROPSHIRE  A   A  \n1    SHREWSBURY  SHROPSHIRE   SHROPSHIRE  A   A  \n2        LUDLOW  SHROPSHIRE   SHROPSHIRE  A   A  \n3       NEWPORT      WREKIN       WREKIN  A   A  \n4    SHREWSBURY  SHROPSHIRE   SHROPSHIRE  A   A  "
                    }, 
                    "output_type": "execute_result"
                }
            ], 
            "source": "df_hp.head(5)"
        }, 
        {
            "execution_count": 7, 
            "cell_type": "code", 
            "metadata": {}, 
            "outputs": [
                {
                    "execution_count": 7, 
                    "metadata": {}, 
                    "data": {
                        "text/plain": "(1021214, 16)"
                    }, 
                    "output_type": "execute_result"
                }
            ], 
            "source": "df_hp.shape"
        }
    ], 
    "metadata": {
        "kernelspec": {
            "display_name": "Python 3.6", 
            "name": "python3", 
            "language": "python"
        }, 
        "language_info": {
            "mimetype": "text/x-python", 
            "nbconvert_exporter": "python", 
            "version": "3.6.8", 
            "name": "python", 
            "file_extension": ".py", 
            "pygments_lexer": "ipython3", 
            "codemirror_mode": {
                "version": 3, 
                "name": "ipython"
            }
        }
    }, 
    "nbformat": 4
}